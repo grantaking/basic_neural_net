{
 "cells": [
  {
   "cell_type": "markdown",
   "metadata": {},
   "source": [
    "**BluePrint:**\n",
    "\n",
    "1.   Initialize the Network\n",
    "    - Adding the Hidden Layers (2 Layers, 16 Neurons Each)\n",
    "    - Initializing Random Weights and Biases\n",
    "    - Activation Functions (Softmax)\n",
    "2.   Backpropagation\n",
    "    - Calculate the Cost\n",
    "    - Caclulate Gradient Descent for each weight and bias\n",
    "    - Apply Learning Rate\n",
    "3.   Train the model\n",
    "    - Batch Stochastic Gradient Descent with Multiple Epochs\n",
    "    - Feed Batches of Input Data into Model\n",
    "    - Forward propagation: Calculate Output\n",
    "    - Apply Backpropagation function\n",
    "    - Calculate average training error for each Epoch"
   ]
  },
  {
   "cell_type": "markdown",
   "metadata": {},
   "source": [
    "# Step 1: Initialize the network"
   ]
  },
  {
   "cell_type": "code",
   "execution_count": 3,
   "metadata": {},
   "outputs": [],
   "source": [
    "import numpy as np\n",
    "\n",
    "#defining activation function\n",
    "def sigmoid(num):\n",
    "    \"\"\"\n",
    "    Takes number as input\n",
    "    Outputs the sigmoid transformation of that number\n",
    "    \"\"\"\n",
    "    return 1.0/(1.0+np.exp(-num))\n",
    "\n",
    "#defining softmax function\n",
    "def softmax(ndarray):\n",
    "    \"\"\"\n",
    "    Takes ndarray as input\n",
    "    Outputs softmax transformation of that ndarray\n",
    "    \"\"\"\n",
    "    return np.exp(ndarray)/sum(np.exp(ndarray))\n",
    "\n",
    "#initialize the network\n",
    "def initialize_net(neuron_nums_list):\n",
    "    \"\"\"\n",
    "    Takes list as input, where:\n",
    "        first element is number of neurons in input layer,\n",
    "        last element is the number of neurons in the output layer,\n",
    "        and intermediate elements are the numbers of neurons in the hidden layers.\n",
    "        \n",
    "    Outputs initialized activations, weights, and biases for these layers:\n",
    "        Weights and biases are all random (0 to 1)\n",
    "        Activations are 0 for the first layer, and calculated for all subsequent layers based on weights and biases\n",
    "    \n",
    "    Activation function for each layer is a sigmoid\n",
    "    Output layer is put through softmax to get predicted probabilities that sum to 1\n",
    "    \"\"\"\n",
    "    layers = len(neuron_nums_list)\n",
    "    \n",
    "    #first initializing lists of zeros with same length as the number of layers\n",
    "    activations = [0]*layers\n",
    "    biases = [0]*layers\n",
    "    weights = [0]*layers\n",
    "    \n",
    "    #initializing random weights and biases, and 0 starting activations\n",
    "    for i in range(layers):\n",
    "        activations[i] = np.zeros(neuron_nums_list[i])\n",
    "        if i > 0:\n",
    "            biases[i] = np.random.uniform(0,1,size=neuron_nums_list[i])\n",
    "            weights[i] = np.random.uniform(0,1,size=(neuron_nums_list[i], neuron_nums_list[i-1]))\n",
    "    \n",
    "    \n",
    "    #calculating the first round of activations\n",
    "    for i in range(layers):\n",
    "        #skipping first layer\n",
    "        if i == 0:\n",
    "            continue\n",
    "        #setting the activation using a sigmoid transformation of the linear combination of weights and previous activations\n",
    "        #(plus bias)\n",
    "        for j in range(len(activations[i])):\n",
    "            pre_sigmoid = sum(activations[i-1]*weights[i][j]) + biases[i][j]\n",
    "            activations[i][j] = sigmoid(pre_sigmoid)\n",
    "            \n",
    "            \n",
    "    #putting the output layer through softmax to get predicted probabilities\n",
    "    activations[-1] = softmax(activations[-1])\n",
    "        \n",
    "    return activations, biases, weights"
   ]
  },
  {
   "cell_type": "code",
   "execution_count": 4,
   "metadata": {},
   "outputs": [],
   "source": [
    "activations, biases, weights = initialize_net([2,3,4])"
   ]
  },
  {
   "cell_type": "code",
   "execution_count": 5,
   "metadata": {},
   "outputs": [
    {
     "data": {
      "text/plain": [
       "[array([0., 0.]),\n",
       " array([0.52303616, 0.55127872, 0.5255474 ]),\n",
       " array([0.2457346 , 0.25197217, 0.25053486, 0.25175838])]"
      ]
     },
     "execution_count": 5,
     "metadata": {},
     "output_type": "execute_result"
    }
   ],
   "source": [
    "activations"
   ]
  },
  {
   "cell_type": "code",
   "execution_count": 6,
   "metadata": {},
   "outputs": [
    {
     "data": {
      "text/plain": [
       "[0,\n",
       " array([0.09220993, 0.20583858, 0.10227866]),\n",
       " array([0.09190455, 0.79140614, 0.39507788, 0.35843415])]"
      ]
     },
     "execution_count": 6,
     "metadata": {},
     "output_type": "execute_result"
    }
   ],
   "source": [
    "biases"
   ]
  },
  {
   "cell_type": "code",
   "execution_count": 7,
   "metadata": {},
   "outputs": [
    {
     "data": {
      "text/plain": [
       "[0, array([[0.95170116, 0.6346612 ],\n",
       "        [0.90073071, 0.08812915],\n",
       "        [0.82545912, 0.41721607]]), array([[0.77814931, 0.59782574, 0.61863359],\n",
       "        [0.43827772, 0.07625345, 0.44477637],\n",
       "        [0.76134475, 0.70801143, 0.15075586],\n",
       "        [0.49487974, 0.61003293, 0.64281701]])]"
      ]
     },
     "execution_count": 7,
     "metadata": {},
     "output_type": "execute_result"
    }
   ],
   "source": [
    "weights"
   ]
  },
  {
   "cell_type": "code",
   "execution_count": 8,
   "metadata": {},
   "outputs": [
    {
     "data": {
      "text/plain": [
       "1.0"
      ]
     },
     "execution_count": 8,
     "metadata": {},
     "output_type": "execute_result"
    }
   ],
   "source": [
    "sum(activations[-1])"
   ]
  },
  {
   "cell_type": "markdown",
   "metadata": {},
   "source": [
    "# Step 2: Backpropogation"
   ]
  },
  {
   "cell_type": "code",
   "execution_count": 15,
   "metadata": {},
   "outputs": [],
   "source": [
    "#setting up example target, where the first category is correct\n",
    "target = [1,0,0,0]\n",
    "\n",
    "def cat_cross_entropy(actual, predicted):\n",
    "    \"\"\"\n",
    "    cost function that calculates categorical cross-entropy for a single observation\n",
    "    takes in arrays representing one-hot encoded vectors of actual and predicted status\n",
    "    returns categorical cross-entropy (numeric)\n",
    "    \"\"\"\n",
    "    return -sum(actual*np.log(predicted))\n",
    "\n"
   ]
  },
  {
   "cell_type": "code",
   "execution_count": 16,
   "metadata": {},
   "outputs": [
    {
     "data": {
      "text/plain": [
       "0.10536051565782628"
      ]
     },
     "execution_count": 16,
     "metadata": {},
     "output_type": "execute_result"
    }
   ],
   "source": [
    "cat_cross_entropy(np.array([1,0,0,0]), np.array([.90,.08,.01,.01]))"
   ]
  },
  {
   "cell_type": "code",
   "execution_count": 17,
   "metadata": {},
   "outputs": [
    {
     "data": {
      "text/plain": [
       "0.916290731874155"
      ]
     },
     "execution_count": 17,
     "metadata": {},
     "output_type": "execute_result"
    }
   ],
   "source": [
    "cat_cross_entropy(np.array([1,0,0,0]), np.array([.40,.3,.15,.15]))"
   ]
  },
  {
   "cell_type": "markdown",
   "metadata": {},
   "source": [
    "# Neural Network Class from textbook Neural Networks and Deep Learning\n",
    "Credit to Michael Nielsen\n",
    "Found at http://neuralnetworksanddeeplearning.com/\n",
    "\n",
    "With a few changes:\n",
    "    1. Changing cost function to categorical cross-entropy\n",
    "    2. Changing output activations to a softmax function, rather than argmax\n",
    "    3. Slight modification to port from Python 2 to Python 3\n",
    "    \n",
    "Resources for doing this were found at https://deepnotes.io/softmax-crossentropy#the-softmax-function\n"
   ]
  },
  {
   "cell_type": "code",
   "execution_count": 2,
   "metadata": {},
   "outputs": [],
   "source": [
    "#### Libraries\n",
    "# Standard library\n",
    "import random\n",
    "\n",
    "# Third-party libraries\n",
    "import numpy as np\n",
    "\n",
    "class Network(object):\n",
    "    def __init__(self, sizes):\n",
    "        \"\"\"The list ``sizes`` contains the number of neurons in the\n",
    "        respective layers of the network.  For example, if the list\n",
    "        was [2, 3, 1] then it would be a three-layer network, with the\n",
    "        first layer containing 2 neurons, the second layer 3 neurons,\n",
    "        and the third layer 1 neuron.  The biases and weights for the\n",
    "        network are initialized randomly, using a Gaussian\n",
    "        distribution with mean 0, and variance 1.  Note that the first\n",
    "        layer is assumed to be an input layer, and by convention we\n",
    "        won't set any biases for those neurons, since biases are only\n",
    "        ever used in computing the outputs from later layers.\"\"\"\n",
    "        self.num_layers = len(sizes)\n",
    "        self.sizes = sizes\n",
    "        self.biases = [np.random.randn(y, 1) for y in sizes[1:]]\n",
    "        self.weights = [np.random.randn(y, x) for x, y in zip(sizes[:-1], sizes[1:])]\n",
    "\n",
    "    def feedforward(self, a):\n",
    "        \"\"\"Return the output of the network if ``a`` is input.\"\"\"\n",
    "        for b, w in zip(self.biases, self.weights):\n",
    "            a = sigmoid(np.dot(w, a)+b)\n",
    "        return a\n",
    "\n",
    "    def SGD(self, training_data, epochs, mini_batch_size, eta,\n",
    "            test_data=None):\n",
    "        \"\"\"Train the neural network using mini-batch stochastic\n",
    "        gradient descent.  The ``training_data`` is a list of tuples\n",
    "        ``(x, y)`` representing the training inputs and the desired\n",
    "        outputs.  The other non-optional parameters are\n",
    "        self-explanatory.  If ``test_data`` is provided then the\n",
    "        network will be evaluated against the test data after each\n",
    "        epoch, and partial progress printed out.  This is useful for\n",
    "        tracking progress, but slows things down substantially.\"\"\"\n",
    "        if test_data:\n",
    "            test_data = list(test_data)\n",
    "            n_test = len(test_data)\n",
    "        training_data = list(training_data)\n",
    "        n = len(training_data)\n",
    "        for j in range(epochs):\n",
    "            random.shuffle(training_data)\n",
    "            mini_batches = [training_data[k:k+mini_batch_size] for k in range(0, n, mini_batch_size)]\n",
    "            for mini_batch in mini_batches:\n",
    "                self.update_mini_batch(mini_batch, eta)\n",
    "            if test_data:\n",
    "                print('Epoch {0}: {1} / {2}'.format(j, self.evaluate(test_data), n_test))\n",
    "            else:\n",
    "                print(\"Epoch {0} complete\".format(j))\n",
    "\n",
    "    def update_mini_batch(self, mini_batch, eta):\n",
    "        \"\"\"Update the network's weights and biases by applying\n",
    "        gradient descent using backpropagation to a single mini batch.\n",
    "        The ``mini_batch`` is a list of tuples ``(x, y)``, and ``eta``\n",
    "        is the learning rate.\"\"\"\n",
    "        nabla_b = [np.zeros(b.shape) for b in self.biases]\n",
    "        nabla_w = [np.zeros(w.shape) for w in self.weights]\n",
    "        for x, y in mini_batch:\n",
    "            delta_nabla_b, delta_nabla_w = self.backprop(x, y)\n",
    "            nabla_b = [nb+dnb for nb, dnb in zip(nabla_b, delta_nabla_b)]\n",
    "            nabla_w = [nw+dnw for nw, dnw in zip(nabla_w, delta_nabla_w)]\n",
    "        self.weights = [w-(eta/len(mini_batch))*nw for w, nw in zip(self.weights, nabla_w)]\n",
    "        self.biases = [b-(eta/len(mini_batch))*nb for b, nb in zip(self.biases, nabla_b)]\n",
    "\n",
    "    def backprop(self, x, y):\n",
    "        \"\"\"Return a tuple ``(nabla_b, nabla_w)`` representing the\n",
    "        gradient for the cost function C_x.  ``nabla_b`` and\n",
    "        ``nabla_w`` are layer-by-layer lists of numpy arrays, similar\n",
    "        to ``self.biases`` and ``self.weights``.\"\"\"\n",
    "        nabla_b = [np.zeros(b.shape) for b in self.biases]\n",
    "        nabla_w = [np.zeros(w.shape) for w in self.weights]\n",
    "        # feedforward\n",
    "        activation = x\n",
    "        activations = [x] # list to store all the activations, layer by layer\n",
    "        zs = [] # list to store all the z vectors, layer by layer\n",
    "        for b, w in zip(self.biases, self.weights):\n",
    "            z = np.dot(w, activation)+b\n",
    "            zs.append(z)\n",
    "            activation = sigmoid(z)\n",
    "            activations.append(activation)\n",
    "        # backward pass\n",
    "        delta = self.cost_derivative(activations[-1], y)*sigmoid_prime(zs[-1])\n",
    "        nabla_b[-1] = delta\n",
    "        nabla_w[-1] = np.dot(delta, activations[-2].transpose())\n",
    "        # Note that the variable l in the loop below is used a little\n",
    "        # differently to the notation in Chapter 2 of the book.  Here,\n",
    "        # l = 1 means the last layer of neurons, l = 2 is the\n",
    "        # second-last layer, and so on.  It's a renumbering of the\n",
    "        # scheme in the book, used here to take advantage of the fact\n",
    "        # that Python can use negative indices in lists.\n",
    "        for l in range(2, self.num_layers):\n",
    "            z = zs[-l]\n",
    "            sp = sigmoid_prime(z)\n",
    "            delta = np.dot(self.weights[-l+1].transpose(), delta) * sp\n",
    "            nabla_b[-l] = delta\n",
    "            nabla_w[-l] = np.dot(delta, activations[-l-1].transpose())\n",
    "        return (nabla_b, nabla_w)\n",
    "\n",
    "    def evaluate(self, test_data):\n",
    "        \"\"\"Return the number of test inputs for which the neural\n",
    "        network outputs the correct result. Note that the neural\n",
    "        network's output is assumed to be the index of whichever\n",
    "        neuron in the final layer has the highest activation.\"\"\"\n",
    "        test_results = [(np.argmax(self.feedforward(x)), y) for (x, y) in test_data]\n",
    "        return sum(int(x == y) for (x, y) in test_results)\n",
    "\n",
    "    def cost_derivative(self, output_activations, y):\n",
    "        \"\"\"Return the vector of partial derivatives \\partial C_x /\n",
    "        \\partial a for the output activations.\"\"\"\n",
    "        return (output_activations-y)\n",
    "\n",
    "#### Miscellaneous functions\n",
    "def sigmoid(z):\n",
    "    \"\"\"The sigmoid function.\"\"\"\n",
    "    return 1.0/(1.0+np.exp(-z))\n",
    "\n",
    "def sigmoid_prime(z):\n",
    "    \"\"\"Derivative of the sigmoid function.\"\"\"\n",
    "    return sigmoid(z)*(1-sigmoid(z))\n",
    "\n",
    "\n",
    "\n",
    "############################################\n",
    "## Added softmax function\n",
    "def softmax(X):\n",
    "    exps = np.exp(X-np.max(X))\n",
    "    return exps / np.sum(exps)\n",
    "\n",
    "\n",
    "## Added categorical cross-entropy function\n",
    "def cat_cross_entropy(actual, predicted):\n",
    "    \"\"\"\n",
    "    cost function that calculates categorical cross-entropy for a single observation\n",
    "    takes in arrays representing one-hot encoded vectors of actual and predicted status\n",
    "    returns categorical cross-entropy (numeric)\n",
    "    \"\"\"\n",
    "    return -np.sum(actual*np.log(predicted))\n",
    "\n",
    "\n",
    "\n",
    "## Added cross-entropy function\n",
    "def cross_entropy(X,y):\n",
    "    \"\"\"\n",
    "    X is the output from fully connected layer (num_examples x num_classes)\n",
    "    y is labels (num_examples x 1)\n",
    "    \tNote that y is not one-hot encoded vector. \n",
    "    \tIt can be computed as y.argmax(axis=1) from one-hot encoded vectors of labels if required.\n",
    "    \"\"\"\n",
    "    m = y.shape[0]\n",
    "    p = softmax(X)\n",
    "    # We use multidimensional array indexing to extract \n",
    "    # softmax probability of the correct label for each sample.\n",
    "    # Refer to https://docs.scipy.org/doc/numpy/user/basics.indexing.html#indexing-multi-dimensional-arrays for understanding multidimensional array indexing.\n",
    "    log_likelihood = -np.log(p[range(m),y])\n",
    "    loss = np.sum(log_likelihood) / m\n",
    "    return loss\n",
    "\n",
    "def delta_cross_entropy(X,y):\n",
    "    \"\"\"\n",
    "    X is the output from fully connected layer (num_examples x num_classes)\n",
    "    y is labels (num_examples x 1)\n",
    "    \tNote that y is not one-hot encoded vector. \n",
    "    \tIt can be computed as y.argmax(axis=1) from one-hot encoded vectors of labels if required.\n",
    "    \"\"\"\n",
    "    m = y.shape[0]\n",
    "    grad = softmax(X)\n",
    "    grad[range(m),y] -= 1\n",
    "    grad = grad/m\n",
    "    return grad"
   ]
  },
  {
   "cell_type": "markdown",
   "metadata": {},
   "source": [
    "# Code for loading MNIST data\n",
    "\n",
    "Also from Michael Nielsen: https://github.com/mnielsen/neural-networks-and-deep-learning/blob/master/src/mnist_loader.py\n",
    "\n",
    "With slight modifications to port from python2 to python3"
   ]
  },
  {
   "cell_type": "code",
   "execution_count": 3,
   "metadata": {},
   "outputs": [],
   "source": [
    "#### Libraries\n",
    "# Standard library\n",
    "import pickle\n",
    "import gzip\n",
    "\n",
    "# Third-party libraries\n",
    "import numpy as np\n",
    "\n",
    "def load_data():\n",
    "    f = gzip.open('mnist.pkl.gz', 'rb')\n",
    "    training_data, validation_data, test_data = pickle.load(f, encoding='latin1')\n",
    "    f.close()\n",
    "    return (training_data, validation_data, test_data)\n",
    "\n",
    "def load_data_wrapper():\n",
    "    tr_d, va_d, te_d = load_data()\n",
    "    training_inputs = [np.reshape(x, (784, 1)) for x in tr_d[0]]\n",
    "    training_results = [vectorized_result(y) for y in tr_d[1]]\n",
    "    training_data = zip(training_inputs, training_results)\n",
    "    validation_inputs = [np.reshape(x, (784, 1)) for x in va_d[0]]\n",
    "    validation_data = zip(validation_inputs, va_d[1])\n",
    "    test_inputs = [np.reshape(x, (784, 1)) for x in te_d[0]]\n",
    "    test_data = zip(test_inputs, te_d[1])\n",
    "    return (training_data, validation_data, test_data)\n",
    "\n",
    "def vectorized_result(j):\n",
    "    e = np.zeros((10, 1))\n",
    "    e[j] = 1.0\n",
    "    return e"
   ]
  },
  {
   "cell_type": "code",
   "execution_count": 4,
   "metadata": {},
   "outputs": [],
   "source": [
    "training_data, validation_data, test_data = load_data_wrapper()"
   ]
  },
  {
   "cell_type": "code",
   "execution_count": 5,
   "metadata": {},
   "outputs": [],
   "source": [
    "net = Network([784, 30, 10])"
   ]
  },
  {
   "cell_type": "code",
   "execution_count": 6,
   "metadata": {},
   "outputs": [
    {
     "name": "stdout",
     "output_type": "stream",
     "text": [
      "Epoch 0: 9040 / 10000\n",
      "Epoch 1: 9213 / 10000\n",
      "Epoch 2: 9337 / 10000\n",
      "Epoch 3: 9369 / 10000\n",
      "Epoch 4: 9404 / 10000\n",
      "Epoch 5: 9422 / 10000\n",
      "Epoch 6: 9399 / 10000\n",
      "Epoch 7: 9451 / 10000\n",
      "Epoch 8: 9435 / 10000\n",
      "Epoch 9: 9432 / 10000\n",
      "Epoch 10: 9462 / 10000\n",
      "Epoch 11: 9443 / 10000\n",
      "Epoch 12: 9457 / 10000\n",
      "Epoch 13: 9446 / 10000\n",
      "Epoch 14: 9464 / 10000\n",
      "Epoch 15: 9470 / 10000\n",
      "Epoch 16: 9477 / 10000\n",
      "Epoch 17: 9479 / 10000\n",
      "Epoch 18: 9465 / 10000\n",
      "Epoch 19: 9494 / 10000\n",
      "Epoch 20: 9492 / 10000\n",
      "Epoch 21: 9503 / 10000\n",
      "Epoch 22: 9478 / 10000\n",
      "Epoch 23: 9502 / 10000\n",
      "Epoch 24: 9492 / 10000\n",
      "Epoch 25: 9511 / 10000\n",
      "Epoch 26: 9515 / 10000\n",
      "Epoch 27: 9495 / 10000\n",
      "Epoch 28: 9474 / 10000\n",
      "Epoch 29: 9488 / 10000\n"
     ]
    }
   ],
   "source": [
    "net.SGD(training_data, 30, 10, 3.0, test_data=test_data)"
   ]
  },
  {
   "cell_type": "code",
   "execution_count": 12,
   "metadata": {},
   "outputs": [
    {
     "ename": "ValueError",
     "evalue": "not enough values to unpack (expected 2, got 0)",
     "output_type": "error",
     "traceback": [
      "\u001b[1;31m---------------------------------------------------------------------------\u001b[0m",
      "\u001b[1;31mValueError\u001b[0m                                Traceback (most recent call last)",
      "\u001b[1;32m<ipython-input-12-50f6ce96739a>\u001b[0m in \u001b[0;36m<module>\u001b[1;34m\u001b[0m\n\u001b[1;32m----> 1\u001b[1;33m \u001b[0mx\u001b[0m\u001b[1;33m,\u001b[0m \u001b[0my\u001b[0m \u001b[1;33m=\u001b[0m \u001b[0mzip\u001b[0m\u001b[1;33m(\u001b[0m\u001b[1;33m*\u001b[0m\u001b[0mtraining_data\u001b[0m\u001b[1;33m)\u001b[0m\u001b[1;33m\u001b[0m\u001b[1;33m\u001b[0m\u001b[0m\n\u001b[0m",
      "\u001b[1;31mValueError\u001b[0m: not enough values to unpack (expected 2, got 0)"
     ]
    }
   ],
   "source": [
    "x, y = zip(*training_data)"
   ]
  },
  {
   "cell_type": "code",
   "execution_count": 72,
   "metadata": {},
   "outputs": [
    {
     "data": {
      "text/plain": [
       "[]"
      ]
     },
     "execution_count": 72,
     "metadata": {},
     "output_type": "execute_result"
    }
   ],
   "source": [
    "\n"
   ]
  },
  {
   "cell_type": "code",
   "execution_count": 63,
   "metadata": {},
   "outputs": [
    {
     "ename": "AttributeError",
     "evalue": "'list' object has no attribute 'shape'",
     "output_type": "error",
     "traceback": [
      "\u001b[1;31m---------------------------------------------------------------------------\u001b[0m",
      "\u001b[1;31mAttributeError\u001b[0m                            Traceback (most recent call last)",
      "\u001b[1;32m<ipython-input-63-6e3b136429d4>\u001b[0m in \u001b[0;36m<module>\u001b[1;34m\u001b[0m\n\u001b[1;32m----> 1\u001b[1;33m \u001b[0mtraining_data\u001b[0m\u001b[1;33m.\u001b[0m\u001b[0mshape\u001b[0m\u001b[1;33m\u001b[0m\u001b[1;33m\u001b[0m\u001b[0m\n\u001b[0m",
      "\u001b[1;31mAttributeError\u001b[0m: 'list' object has no attribute 'shape'"
     ]
    }
   ],
   "source": [
    "\n"
   ]
  },
  {
   "cell_type": "code",
   "execution_count": 65,
   "metadata": {},
   "outputs": [
    {
     "data": {
      "text/plain": [
       "[]"
      ]
     },
     "execution_count": 65,
     "metadata": {},
     "output_type": "execute_result"
    }
   ],
   "source": []
  },
  {
   "cell_type": "code",
   "execution_count": null,
   "metadata": {},
   "outputs": [],
   "source": []
  }
 ],
 "metadata": {
  "kernelspec": {
   "display_name": "Python 3",
   "language": "python",
   "name": "python3"
  },
  "language_info": {
   "codemirror_mode": {
    "name": "ipython",
    "version": 3
   },
   "file_extension": ".py",
   "mimetype": "text/x-python",
   "name": "python",
   "nbconvert_exporter": "python",
   "pygments_lexer": "ipython3",
   "version": "3.7.3"
  }
 },
 "nbformat": 4,
 "nbformat_minor": 2
}
